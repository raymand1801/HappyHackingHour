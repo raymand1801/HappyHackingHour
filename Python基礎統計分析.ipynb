{
  "nbformat": 4,
  "nbformat_minor": 0,
  "metadata": {
    "colab": {
      "name": "Python基礎統計分析.ipynb",
      "provenance": []
    },
    "kernelspec": {
      "name": "python3",
      "display_name": "Python 3"
    }
  },
  "cells": [
    {
      "cell_type": "code",
      "metadata": {
        "id": "PJ05jK2DmsPQ",
        "colab_type": "code",
        "colab": {
          "base_uri": "https://localhost:8080/",
          "height": 224
        },
        "outputId": "279e702f-f0ad-467e-c41a-426d13292bb6"
      },
      "source": [
        "!wget https://raw.githubusercontent.com/PacktPublishing/Learning-Pandas-Second-Edition/master/data/sp500.csv"
      ],
      "execution_count": 1,
      "outputs": [
        {
          "output_type": "stream",
          "text": [
            "--2019-12-10 02:31:30--  https://raw.githubusercontent.com/PacktPublishing/Learning-Pandas-Second-Edition/master/data/sp500.csv\n",
            "Resolving raw.githubusercontent.com (raw.githubusercontent.com)... 151.101.0.133, 151.101.64.133, 151.101.128.133, ...\n",
            "Connecting to raw.githubusercontent.com (raw.githubusercontent.com)|151.101.0.133|:443... connected.\n",
            "HTTP request sent, awaiting response... 200 OK\n",
            "Length: 83629 (82K) [text/plain]\n",
            "Saving to: ‘sp500.csv’\n",
            "\n",
            "\rsp500.csv             0%[                    ]       0  --.-KB/s               \rsp500.csv           100%[===================>]  81.67K  --.-KB/s    in 0.007s  \n",
            "\n",
            "2019-12-10 02:31:30 (11.4 MB/s) - ‘sp500.csv’ saved [83629/83629]\n",
            "\n"
          ],
          "name": "stdout"
        }
      ]
    },
    {
      "cell_type": "code",
      "metadata": {
        "id": "wkQRvARapcza",
        "colab_type": "code",
        "colab": {
          "base_uri": "https://localhost:8080/",
          "height": 224
        },
        "outputId": "ca8b94eb-23a3-4ce0-bbef-be5206f24eec"
      },
      "source": [
        "!wget https://raw.githubusercontent.com/PacktPublishing/Learning-Pandas-Second-Edition/master/data/omh.csv\n"
      ],
      "execution_count": 2,
      "outputs": [
        {
          "output_type": "stream",
          "text": [
            "--2019-12-10 02:31:42--  https://raw.githubusercontent.com/PacktPublishing/Learning-Pandas-Second-Edition/master/data/omh.csv\n",
            "Resolving raw.githubusercontent.com (raw.githubusercontent.com)... 151.101.0.133, 151.101.64.133, 151.101.128.133, ...\n",
            "Connecting to raw.githubusercontent.com (raw.githubusercontent.com)|151.101.0.133|:443... connected.\n",
            "HTTP request sent, awaiting response... 200 OK\n",
            "Length: 539 [text/plain]\n",
            "Saving to: ‘omh.csv’\n",
            "\n",
            "\romh.csv               0%[                    ]       0  --.-KB/s               \romh.csv             100%[===================>]     539  --.-KB/s    in 0s      \n",
            "\n",
            "2019-12-10 02:31:42 (123 MB/s) - ‘omh.csv’ saved [539/539]\n",
            "\n"
          ],
          "name": "stdout"
        }
      ]
    },
    {
      "cell_type": "code",
      "metadata": {
        "id": "eNx0Z0PepivH",
        "colab_type": "code",
        "colab": {
          "base_uri": "https://localhost:8080/",
          "height": 34
        },
        "outputId": "fb341604-3c36-4cb4-f9b7-af0d343e4f6c"
      },
      "source": [
        "!ls"
      ],
      "execution_count": 3,
      "outputs": [
        {
          "output_type": "stream",
          "text": [
            "omh.csv  sample_data  sp500.csv\n"
          ],
          "name": "stdout"
        }
      ]
    },
    {
      "cell_type": "code",
      "metadata": {
        "id": "9X0OvO_0pm0w",
        "colab_type": "code",
        "colab": {}
      },
      "source": [
        "#建目錄\n",
        "%mkdir lol"
      ],
      "execution_count": 0,
      "outputs": []
    },
    {
      "cell_type": "code",
      "metadata": {
        "id": "h8LQQhfppuya",
        "colab_type": "code",
        "colab": {
          "base_uri": "https://localhost:8080/",
          "height": 34
        },
        "outputId": "3d558a7d-09f2-43d0-f252-43ecdf3fa311"
      },
      "source": [
        "!ls"
      ],
      "execution_count": 5,
      "outputs": [
        {
          "output_type": "stream",
          "text": [
            "lol  omh.csv  sample_data  sp500.csv\n"
          ],
          "name": "stdout"
        }
      ]
    },
    {
      "cell_type": "code",
      "metadata": {
        "id": "na6IFsYrqDFz",
        "colab_type": "code",
        "colab": {}
      },
      "source": [
        "# -*- coding: utf-8 -*-\n",
        "import numpy as np\n",
        "import pandas as pd\n",
        "\n",
        "# used for dates\n",
        "import datetime\n",
        "from datetime import datetime, date\n",
        "\n",
        "# Set formattign options\n",
        "pd.set_option('display.notebook_repr_html', False)\n",
        "pd.set_option('display.max_columns', 7)\n",
        "pd.set_option('display.max_rows', 10)\n",
        "pd.set_option('display.width', 60)\n",
        "\n",
        "# bring in matplotlib for graphics\n",
        "import matplotlib.pyplot as plt\n",
        "# %matplotlib inline\n",
        "\n",
        "# read in the data and print the first five rows\n",
        "# use the Symbol column as the index, and \n",
        "# only read in columns in positions 0, 2, 3, 7\n",
        "sp500 = pd.read_csv(\"sp500.csv\", \n",
        "                    index_col='Symbol', \n",
        "                    usecols=[0, 2, 3, 7])\n",
        "\n",
        "# one month of stock history data\n",
        "omh = pd.read_csv(\"omh.csv\")"
      ],
      "execution_count": 0,
      "outputs": []
    },
    {
      "cell_type": "code",
      "metadata": {
        "id": "2N2n8VTvqxUY",
        "colab_type": "code",
        "colab": {
          "base_uri": "https://localhost:8080/",
          "height": 272
        },
        "outputId": "0de01b37-4275-46d9-e84c-f9a4ca2e3acb"
      },
      "source": [
        "sp500"
      ],
      "execution_count": 7,
      "outputs": [
        {
          "output_type": "execute_result",
          "data": {
            "text/plain": [
              "                        Sector   Price  Book Value\n",
              "Symbol                                            \n",
              "MMM                Industrials  141.14      26.668\n",
              "ABT                Health Care   39.60      15.573\n",
              "ABBV               Health Care   53.95       2.954\n",
              "ACN     Information Technology   79.79       8.326\n",
              "ACE                 Financials  102.91      86.897\n",
              "...                        ...     ...         ...\n",
              "YHOO    Information Technology   35.02      12.768\n",
              "YUM     Consumer Discretionary   74.77       5.147\n",
              "ZMH                Health Care  101.84      37.181\n",
              "ZION                Financials   28.43      30.191\n",
              "ZTS                Health Care   30.53       2.150\n",
              "\n",
              "[500 rows x 3 columns]"
            ]
          },
          "metadata": {
            "tags": []
          },
          "execution_count": 7
        }
      ]
    },
    {
      "cell_type": "code",
      "metadata": {
        "id": "WZXC0ndlyIzY",
        "colab_type": "code",
        "colab": {
          "base_uri": "https://localhost:8080/",
          "height": 119
        },
        "outputId": "e15012c2-91ac-4050-e9ab-f8f228f508e1"
      },
      "source": [
        "# set the seed to allow replicatable results\n",
        "np.random.seed(123456)\n",
        "# create the DataFrame\n",
        "df = pd.DataFrame(np.random.randn(5, 4), \n",
        "                  columns=['A', 'B', 'C', 'D'])\n",
        "df"
      ],
      "execution_count": 29,
      "outputs": [
        {
          "output_type": "execute_result",
          "data": {
            "text/plain": [
              "          A         B         C         D\n",
              "0  0.469112 -0.282863 -1.509059 -1.135632\n",
              "1  1.212112 -0.173215  0.119209 -1.044236\n",
              "2 -0.861849 -2.104569 -0.494929  1.071804\n",
              "3  0.721555 -0.706771 -1.039575  0.271860\n",
              "4 -0.424972  0.567020  0.276232 -1.087401"
            ]
          },
          "metadata": {
            "tags": []
          },
          "execution_count": 29
        }
      ]
    },
    {
      "cell_type": "code",
      "metadata": {
        "id": "5fkjdx79yKdy",
        "colab_type": "code",
        "colab": {
          "base_uri": "https://localhost:8080/",
          "height": 119
        },
        "outputId": "e03f32a4-bc49-467a-8834-3749b5519fd1"
      },
      "source": [
        "# multiply everything by 2\n",
        "df * 2"
      ],
      "execution_count": 30,
      "outputs": [
        {
          "output_type": "execute_result",
          "data": {
            "text/plain": [
              "          A         B         C         D\n",
              "0  0.938225 -0.565727 -3.018117 -2.271265\n",
              "1  2.424224 -0.346429  0.238417 -2.088472\n",
              "2 -1.723698 -4.209138 -0.989859  2.143608\n",
              "3  1.443110 -1.413542 -2.079150  0.543720\n",
              "4 -0.849945  1.134041  0.552464 -2.174801"
            ]
          },
          "metadata": {
            "tags": []
          },
          "execution_count": 30
        }
      ]
    },
    {
      "cell_type": "code",
      "metadata": {
        "id": "2A2rkeRpyM2Z",
        "colab_type": "code",
        "colab": {
          "base_uri": "https://localhost:8080/",
          "height": 102
        },
        "outputId": "1be06f20-8eea-45f6-d810-a3e82aa63b09"
      },
      "source": [
        "# get first row \n",
        "s = df.iloc[0] \n",
        "s"
      ],
      "execution_count": 32,
      "outputs": [
        {
          "output_type": "execute_result",
          "data": {
            "text/plain": [
              "A    0.469112\n",
              "B   -0.282863\n",
              "C   -1.509059\n",
              "D   -1.135632\n",
              "Name: 0, dtype: float64"
            ]
          },
          "metadata": {
            "tags": []
          },
          "execution_count": 32
        }
      ]
    },
    {
      "cell_type": "code",
      "metadata": {
        "id": "DpxxFoUNyTcH",
        "colab_type": "code",
        "colab": {
          "base_uri": "https://localhost:8080/",
          "height": 119
        },
        "outputId": "0f22595f-e7f6-4fd8-add6-9938b952753f"
      },
      "source": [
        "# subtract first row from every row of the DataFrame\n",
        "diff = df - s \n",
        "diff"
      ],
      "execution_count": 33,
      "outputs": [
        {
          "output_type": "execute_result",
          "data": {
            "text/plain": [
              "          A         B         C         D\n",
              "0  0.000000  0.000000  0.000000  0.000000\n",
              "1  0.743000  0.109649  1.628267  0.091396\n",
              "2 -1.330961 -1.821706  1.014129  2.207436\n",
              "3  0.252443 -0.423908  0.469484  1.407492\n",
              "4 -0.894085  0.849884  1.785291  0.048232"
            ]
          },
          "metadata": {
            "tags": []
          },
          "execution_count": 33
        }
      ]
    },
    {
      "cell_type": "code",
      "metadata": {
        "id": "xv5CishxyWPH",
        "colab_type": "code",
        "colab": {
          "base_uri": "https://localhost:8080/",
          "height": 119
        },
        "outputId": "32eb4238-a444-41b7-d054-3702c8b67424"
      },
      "source": [
        "# subtract DataFrame from Series\n",
        "diff2 = s - df\n",
        "diff2"
      ],
      "execution_count": 34,
      "outputs": [
        {
          "output_type": "execute_result",
          "data": {
            "text/plain": [
              "          A         B         C         D\n",
              "0  0.000000  0.000000  0.000000  0.000000\n",
              "1 -0.743000 -0.109649 -1.628267 -0.091396\n",
              "2  1.330961  1.821706 -1.014129 -2.207436\n",
              "3 -0.252443  0.423908 -0.469484 -1.407492\n",
              "4  0.894085 -0.849884 -1.785291 -0.048232"
            ]
          },
          "metadata": {
            "tags": []
          },
          "execution_count": 34
        }
      ]
    },
    {
      "cell_type": "code",
      "metadata": {
        "id": "LMVrio2KyXRZ",
        "colab_type": "code",
        "colab": {
          "base_uri": "https://localhost:8080/",
          "height": 119
        },
        "outputId": "b8f2b632-6084-435f-faca-606ce8f6cf38"
      },
      "source": [
        "# B, C\n",
        "s2 = s[1:3]\n",
        "# add E\n",
        "s2['E'] = 0\n",
        "# see how alignment is applied in math\n",
        "df + s2"
      ],
      "execution_count": 35,
      "outputs": [
        {
          "output_type": "execute_result",
          "data": {
            "text/plain": [
              "    A         B         C   D   E\n",
              "0 NaN -0.565727 -3.018117 NaN NaN\n",
              "1 NaN -0.456078 -1.389850 NaN NaN\n",
              "2 NaN -2.387433 -2.003988 NaN NaN\n",
              "3 NaN -0.989634 -2.548633 NaN NaN\n",
              "4 NaN  0.284157 -1.232826 NaN NaN"
            ]
          },
          "metadata": {
            "tags": []
          },
          "execution_count": 35
        }
      ]
    },
    {
      "cell_type": "code",
      "metadata": {
        "id": "BjmcB9ETyagK",
        "colab_type": "code",
        "colab": {
          "base_uri": "https://localhost:8080/",
          "height": 85
        },
        "outputId": "381cd82d-3cb0-47bb-a576-26d5d388ef9a"
      },
      "source": [
        "# get rows 1 through three, and only B, C columns\n",
        "subframe = df[1:4][['B', 'C']]\n",
        "# we have extracted a little square in the middle of df\n",
        "subframe"
      ],
      "execution_count": 36,
      "outputs": [
        {
          "output_type": "execute_result",
          "data": {
            "text/plain": [
              "          B         C\n",
              "1 -0.173215  0.119209\n",
              "2 -2.104569 -0.494929\n",
              "3 -0.706771 -1.039575"
            ]
          },
          "metadata": {
            "tags": []
          },
          "execution_count": 36
        }
      ]
    },
    {
      "cell_type": "code",
      "metadata": {
        "id": "GyIhe_qpydST",
        "colab_type": "code",
        "colab": {
          "base_uri": "https://localhost:8080/",
          "height": 119
        },
        "outputId": "153847b5-0bd5-4bcd-d659-9385e25418c8"
      },
      "source": [
        "# demonstrate the alignment of the subtraction\n",
        "df - subframe"
      ],
      "execution_count": 37,
      "outputs": [
        {
          "output_type": "execute_result",
          "data": {
            "text/plain": [
              "    A    B    C   D\n",
              "0 NaN  NaN  NaN NaN\n",
              "1 NaN  0.0  0.0 NaN\n",
              "2 NaN  0.0  0.0 NaN\n",
              "3 NaN  0.0  0.0 NaN\n",
              "4 NaN  NaN  NaN NaN"
            ]
          },
          "metadata": {
            "tags": []
          },
          "execution_count": 37
        }
      ]
    },
    {
      "cell_type": "code",
      "metadata": {
        "id": "kBRV0xW-yiCI",
        "colab_type": "code",
        "colab": {
          "base_uri": "https://localhost:8080/",
          "height": 119
        },
        "outputId": "2b540201-11c9-4489-9f26-01b5305a7aea"
      },
      "source": [
        "# get the A column\n",
        "a_col = df['A']\n",
        "df.sub(a_col, axis=0)"
      ],
      "execution_count": 38,
      "outputs": [
        {
          "output_type": "execute_result",
          "data": {
            "text/plain": [
              "     A         B         C         D\n",
              "0  0.0 -0.751976 -1.978171 -1.604745\n",
              "1  0.0 -1.385327 -1.092903 -2.256348\n",
              "2  0.0 -1.242720  0.366920  1.933653\n",
              "3  0.0 -1.428326 -1.761130 -0.449695\n",
              "4  0.0  0.991993  0.701204 -0.662428"
            ]
          },
          "metadata": {
            "tags": []
          },
          "execution_count": 38
        }
      ]
    },
    {
      "cell_type": "code",
      "metadata": {
        "id": "emuSPqbuyqbq",
        "colab_type": "code",
        "colab": {
          "base_uri": "https://localhost:8080/",
          "height": 34
        },
        "outputId": "4d05926c-6f56-4d33-e85e-1a28ab18c38e"
      },
      "source": [
        "s = pd.Series(['a', 'a', 'b', 'c', np.NaN])\n",
        "# number of occurrences of each unique value\n",
        "s.count()"
      ],
      "execution_count": 39,
      "outputs": [
        {
          "output_type": "execute_result",
          "data": {
            "text/plain": [
              "4"
            ]
          },
          "metadata": {
            "tags": []
          },
          "execution_count": 39
        }
      ]
    },
    {
      "cell_type": "code",
      "metadata": {
        "id": "ZWhaclnPyt6E",
        "colab_type": "code",
        "colab": {
          "base_uri": "https://localhost:8080/",
          "height": 34
        },
        "outputId": "79270516-8dd5-4a9c-b2b9-df62c5a450ed"
      },
      "source": [
        "# return a list of unique items\n",
        "s.unique()\n"
      ],
      "execution_count": 40,
      "outputs": [
        {
          "output_type": "execute_result",
          "data": {
            "text/plain": [
              "array(['a', 'b', 'c', nan], dtype=object)"
            ]
          },
          "metadata": {
            "tags": []
          },
          "execution_count": 40
        }
      ]
    },
    {
      "cell_type": "code",
      "metadata": {
        "id": "RhgAgDvNyuzN",
        "colab_type": "code",
        "colab": {
          "base_uri": "https://localhost:8080/",
          "height": 119
        },
        "outputId": "3aaabf29-c9a5-40a1-e748-6e4a809aa603"
      },
      "source": [
        "s.nunique"
      ],
      "execution_count": 41,
      "outputs": [
        {
          "output_type": "execute_result",
          "data": {
            "text/plain": [
              "<bound method IndexOpsMixin.nunique of 0      a\n",
              "1      a\n",
              "2      b\n",
              "3      c\n",
              "4    NaN\n",
              "dtype: object>"
            ]
          },
          "metadata": {
            "tags": []
          },
          "execution_count": 41
        }
      ]
    },
    {
      "cell_type": "code",
      "metadata": {
        "id": "TXqs_lsXyzRu",
        "colab_type": "code",
        "colab": {
          "base_uri": "https://localhost:8080/",
          "height": 34
        },
        "outputId": "c532613d-cdc7-4c77-df23-c54f0dbc0561"
      },
      "source": [
        "s.nunique(dropna=False)"
      ],
      "execution_count": 42,
      "outputs": [
        {
          "output_type": "execute_result",
          "data": {
            "text/plain": [
              "4"
            ]
          },
          "metadata": {
            "tags": []
          },
          "execution_count": 42
        }
      ]
    },
    {
      "cell_type": "code",
      "metadata": {
        "id": "yCgQubz3y2CF",
        "colab_type": "code",
        "colab": {
          "base_uri": "https://localhost:8080/",
          "height": 102
        },
        "outputId": "4848ad39-f65d-4101-86d6-b804e8838608"
      },
      "source": [
        "s.value_counts(dropna=False)"
      ],
      "execution_count": 43,
      "outputs": [
        {
          "output_type": "execute_result",
          "data": {
            "text/plain": [
              "a      2\n",
              "c      1\n",
              "b      1\n",
              "NaN    1\n",
              "dtype: int64"
            ]
          },
          "metadata": {
            "tags": []
          },
          "execution_count": 43
        }
      ]
    },
    {
      "cell_type": "code",
      "metadata": {
        "id": "9RYXmf4Hy23d",
        "colab_type": "code",
        "colab": {
          "base_uri": "https://localhost:8080/",
          "height": 68
        },
        "outputId": "503aff12-c94a-4639-b91c-8b9f940ae5cb"
      },
      "source": [
        "# location of min price for both stocks\n",
        "omh[['MSFT', 'AAPL']].min()"
      ],
      "execution_count": 45,
      "outputs": [
        {
          "output_type": "execute_result",
          "data": {
            "text/plain": [
              "MSFT     45.16\n",
              "AAPL    106.75\n",
              "dtype: float64"
            ]
          },
          "metadata": {
            "tags": []
          },
          "execution_count": 45
        }
      ]
    },
    {
      "cell_type": "code",
      "metadata": {
        "id": "2qNTU00IzE-B",
        "colab_type": "code",
        "colab": {
          "base_uri": "https://localhost:8080/",
          "height": 68
        },
        "outputId": "7a4d4934-2259-4e0e-b15f-e87b534854c8"
      },
      "source": [
        "# and location of the max\n",
        "omh[['MSFT', 'AAPL']].max()"
      ],
      "execution_count": 46,
      "outputs": [
        {
          "output_type": "execute_result",
          "data": {
            "text/plain": [
              "MSFT     48.84\n",
              "AAPL    115.93\n",
              "dtype: float64"
            ]
          },
          "metadata": {
            "tags": []
          },
          "execution_count": 46
        }
      ]
    },
    {
      "cell_type": "code",
      "metadata": {
        "id": "W1HP2pcfzGlj",
        "colab_type": "code",
        "colab": {
          "base_uri": "https://localhost:8080/",
          "height": 68
        },
        "outputId": "810178c6-a4a6-4446-f2ff-064dd7883ef7"
      },
      "source": [
        "# location of min price for both stocks\n",
        "omh[['MSFT', 'AAPL']].idxmin()"
      ],
      "execution_count": 47,
      "outputs": [
        {
          "output_type": "execute_result",
          "data": {
            "text/plain": [
              "MSFT    11\n",
              "AAPL    11\n",
              "dtype: int64"
            ]
          },
          "metadata": {
            "tags": []
          },
          "execution_count": 47
        }
      ]
    },
    {
      "cell_type": "code",
      "metadata": {
        "id": "UKE4TWBLzK_f",
        "colab_type": "code",
        "colab": {
          "base_uri": "https://localhost:8080/",
          "height": 68
        },
        "outputId": "e39ec779-f5b6-40f2-e8c5-917916909086"
      },
      "source": [
        "# and location of the max\n",
        "omh[['MSFT', 'AAPL']].idxmax()"
      ],
      "execution_count": 48,
      "outputs": [
        {
          "output_type": "execute_result",
          "data": {
            "text/plain": [
              "MSFT    3\n",
              "AAPL    2\n",
              "dtype: int64"
            ]
          },
          "metadata": {
            "tags": []
          },
          "execution_count": 48
        }
      ]
    },
    {
      "cell_type": "code",
      "metadata": {
        "id": "Zs3bB_LRzP3z",
        "colab_type": "code",
        "colab": {
          "base_uri": "https://localhost:8080/",
          "height": 102
        },
        "outputId": "1872b127-0418-47f6-bbbd-d915b1dc6dca"
      },
      "source": [
        "# get the 4 smallest values\n",
        "omh.nsmallest(4, ['MSFT'])['MSFT']\n"
      ],
      "execution_count": 49,
      "outputs": [
        {
          "output_type": "execute_result",
          "data": {
            "text/plain": [
              "11    45.16\n",
              "12    45.74\n",
              "21    46.45\n",
              "10    46.67\n",
              "Name: MSFT, dtype: float64"
            ]
          },
          "metadata": {
            "tags": []
          },
          "execution_count": 49
        }
      ]
    },
    {
      "cell_type": "code",
      "metadata": {
        "id": "4wqHIqRvzQuI",
        "colab_type": "code",
        "colab": {
          "base_uri": "https://localhost:8080/",
          "height": 102
        },
        "outputId": "4868bf09-58c8-4512-a585-14c036017d48"
      },
      "source": [
        "# get the 4 largest values\n",
        "omh.nlargest(4, ['MSFT'])['MSFT']"
      ],
      "execution_count": 50,
      "outputs": [
        {
          "output_type": "execute_result",
          "data": {
            "text/plain": [
              "3     48.84\n",
              "0     48.62\n",
              "1     48.46\n",
              "16    48.45\n",
              "Name: MSFT, dtype: float64"
            ]
          },
          "metadata": {
            "tags": []
          },
          "execution_count": 50
        }
      ]
    },
    {
      "cell_type": "code",
      "metadata": {
        "id": "3QHwfzEVzTpd",
        "colab_type": "code",
        "colab": {
          "base_uri": "https://localhost:8080/",
          "height": 102
        },
        "outputId": "f1b0ca98-e134-40e3-9709-01b82c35b498"
      },
      "source": [
        "# nsmallest on a Series\n",
        "omh.MSFT.nsmallest(4)"
      ],
      "execution_count": 51,
      "outputs": [
        {
          "output_type": "execute_result",
          "data": {
            "text/plain": [
              "11    45.16\n",
              "12    45.74\n",
              "21    46.45\n",
              "10    46.67\n",
              "Name: MSFT, dtype: float64"
            ]
          },
          "metadata": {
            "tags": []
          },
          "execution_count": 51
        }
      ]
    },
    {
      "cell_type": "code",
      "metadata": {
        "id": "B7djXooJzWsz",
        "colab_type": "code",
        "colab": {
          "base_uri": "https://localhost:8080/",
          "height": 102
        },
        "outputId": "3348e535-f811-4c7d-a78e-ab2ea1fc3259"
      },
      "source": [
        "# calculate a cumulative product\n",
        "pd.Series([1, 2, 3, 4]).cumprod()\n"
      ],
      "execution_count": 52,
      "outputs": [
        {
          "output_type": "execute_result",
          "data": {
            "text/plain": [
              "0     1\n",
              "1     2\n",
              "2     6\n",
              "3    24\n",
              "dtype: int64"
            ]
          },
          "metadata": {
            "tags": []
          },
          "execution_count": 52
        }
      ]
    },
    {
      "cell_type": "code",
      "metadata": {
        "id": "6YXRAcbbzZRr",
        "colab_type": "code",
        "colab": {
          "base_uri": "https://localhost:8080/",
          "height": 102
        },
        "outputId": "118b09f2-75ce-4a87-d631-e5bccf33b844"
      },
      "source": [
        "# calculate a cumulative sum\n",
        "pd.Series([1, 2, 3, 4]).cumsum()"
      ],
      "execution_count": 53,
      "outputs": [
        {
          "output_type": "execute_result",
          "data": {
            "text/plain": [
              "0     1\n",
              "1     3\n",
              "2     6\n",
              "3    10\n",
              "dtype: int64"
            ]
          },
          "metadata": {
            "tags": []
          },
          "execution_count": 53
        }
      ]
    },
    {
      "cell_type": "code",
      "metadata": {
        "id": "1hvK_eBmrBzZ",
        "colab_type": "code",
        "colab": {}
      },
      "source": [
        "omh = pd.read_csv(\"omh.csv\")"
      ],
      "execution_count": 0,
      "outputs": []
    },
    {
      "cell_type": "code",
      "metadata": {
        "id": "s_Ht5hlWrE6b",
        "colab_type": "code",
        "colab": {
          "base_uri": "https://localhost:8080/",
          "height": 255
        },
        "outputId": "6fb0c2f4-e460-4159-e41a-28727089f4e0"
      },
      "source": [
        "omh"
      ],
      "execution_count": 9,
      "outputs": [
        {
          "output_type": "execute_result",
          "data": {
            "text/plain": [
              "          Date   MSFT    AAPL\n",
              "0   2014-12-01  48.62  115.07\n",
              "1   2014-12-02  48.46  114.63\n",
              "2   2014-12-03  48.08  115.93\n",
              "3   2014-12-04  48.84  115.49\n",
              "4   2014-12-05  48.42  115.00\n",
              "..         ...    ...     ...\n",
              "17  2014-12-24  48.14  112.01\n",
              "18  2014-12-26  47.88  113.99\n",
              "19  2014-12-29  47.45  113.91\n",
              "20  2014-12-30  47.02  112.52\n",
              "21  2014-12-31  46.45  110.38\n",
              "\n",
              "[22 rows x 3 columns]"
            ]
          },
          "metadata": {
            "tags": []
          },
          "execution_count": 9
        }
      ]
    },
    {
      "cell_type": "code",
      "metadata": {
        "id": "NwCI_zrhrT3g",
        "colab_type": "code",
        "colab": {
          "base_uri": "https://localhost:8080/",
          "height": 170
        },
        "outputId": "00973481-48bc-4d8f-802a-9e87ef0c029d"
      },
      "source": [
        "omh.describe()"
      ],
      "execution_count": 10,
      "outputs": [
        {
          "output_type": "execute_result",
          "data": {
            "text/plain": [
              "            MSFT        AAPL\n",
              "count  22.000000   22.000000\n",
              "mean   47.493182  112.411364\n",
              "std     0.933077    2.388772\n",
              "min    45.160000  106.750000\n",
              "25%    46.967500  111.660000\n",
              "50%    47.625000  112.530000\n",
              "75%    48.125000  114.087500\n",
              "max    48.840000  115.930000"
            ]
          },
          "metadata": {
            "tags": []
          },
          "execution_count": 10
        }
      ]
    },
    {
      "cell_type": "code",
      "metadata": {
        "id": "_cnurgL2sQxb",
        "colab_type": "code",
        "colab": {
          "base_uri": "https://localhost:8080/",
          "height": 170
        },
        "outputId": "314ac75f-67e3-4057-c5ff-7ada4137e251"
      },
      "source": [
        "omh.MSFT.describe()"
      ],
      "execution_count": 12,
      "outputs": [
        {
          "output_type": "execute_result",
          "data": {
            "text/plain": [
              "count    22.000000\n",
              "mean     47.493182\n",
              "std       0.933077\n",
              "min      45.160000\n",
              "25%      46.967500\n",
              "50%      47.625000\n",
              "75%      48.125000\n",
              "max      48.840000\n",
              "Name: MSFT, dtype: float64"
            ]
          },
          "metadata": {
            "tags": []
          },
          "execution_count": 12
        }
      ]
    },
    {
      "cell_type": "code",
      "metadata": {
        "id": "RGZsXK8BsV8e",
        "colab_type": "code",
        "colab": {
          "base_uri": "https://localhost:8080/",
          "height": 34
        },
        "outputId": "1969c7ce-e311-4d23-b9f3-e17db1e49e97"
      },
      "source": [
        "omh.MSFT.describe()['mean']\n"
      ],
      "execution_count": 13,
      "outputs": [
        {
          "output_type": "execute_result",
          "data": {
            "text/plain": [
              "47.49318181818182"
            ]
          },
          "metadata": {
            "tags": []
          },
          "execution_count": 13
        }
      ]
    },
    {
      "cell_type": "code",
      "metadata": {
        "id": "w83DO-DkskVC",
        "colab_type": "code",
        "colab": {
          "base_uri": "https://localhost:8080/",
          "height": 68
        },
        "outputId": "7136ceb0-9a53-41cc-a65a-cc53689c4a25"
      },
      "source": [
        "# the mean of all the columns in omh\n",
        "omh.mean()"
      ],
      "execution_count": 14,
      "outputs": [
        {
          "output_type": "execute_result",
          "data": {
            "text/plain": [
              "MSFT     47.493182\n",
              "AAPL    112.411364\n",
              "dtype: float64"
            ]
          },
          "metadata": {
            "tags": []
          },
          "execution_count": 14
        }
      ]
    },
    {
      "cell_type": "code",
      "metadata": {
        "id": "SViWY3Ijsxnm",
        "colab_type": "code",
        "colab": {
          "base_uri": "https://localhost:8080/",
          "height": 119
        },
        "outputId": "51b73a42-f4fe-4ed1-b61e-b8ab5cf6881a"
      },
      "source": [
        "# calc the mean of the values in each row\n",
        "omh.mean(axis=1)[:5]"
      ],
      "execution_count": 15,
      "outputs": [
        {
          "output_type": "execute_result",
          "data": {
            "text/plain": [
              "0    81.845\n",
              "1    81.545\n",
              "2    82.005\n",
              "3    82.165\n",
              "4    81.710\n",
              "dtype: float64"
            ]
          },
          "metadata": {
            "tags": []
          },
          "execution_count": 15
        }
      ]
    },
    {
      "cell_type": "code",
      "metadata": {
        "id": "DaZ6IUIWs5wJ",
        "colab_type": "code",
        "colab": {
          "base_uri": "https://localhost:8080/",
          "height": 68
        },
        "outputId": "6ceb085f-4e09-445b-d8b6-112ac5a5c3bf"
      },
      "source": [
        "# calc the median of the values in each column\n",
        "omh.median()"
      ],
      "execution_count": 16,
      "outputs": [
        {
          "output_type": "execute_result",
          "data": {
            "text/plain": [
              "MSFT     47.625\n",
              "AAPL    112.530\n",
              "dtype: float64"
            ]
          },
          "metadata": {
            "tags": []
          },
          "execution_count": 16
        }
      ]
    },
    {
      "cell_type": "code",
      "metadata": {
        "id": "UZ8tFScLtA9g",
        "colab_type": "code",
        "colab": {
          "base_uri": "https://localhost:8080/",
          "height": 51
        },
        "outputId": "af6a12ff-b027-4cc0-8b38-dca8ef49c04d"
      },
      "source": [
        "# find the mode of this Series\n",
        "s = pd.Series([1, 2, 3, 3, 5])\n",
        "s.mode()"
      ],
      "execution_count": 17,
      "outputs": [
        {
          "output_type": "execute_result",
          "data": {
            "text/plain": [
              "0    3\n",
              "dtype: int64"
            ]
          },
          "metadata": {
            "tags": []
          },
          "execution_count": 17
        }
      ]
    },
    {
      "cell_type": "code",
      "metadata": {
        "id": "mPLbUktetC4e",
        "colab_type": "code",
        "colab": {
          "base_uri": "https://localhost:8080/",
          "height": 68
        },
        "outputId": "5d530069-64f8-4746-93ac-9c7200add70f"
      },
      "source": [
        "# there can be more than one mode\n",
        "s = pd.Series([1, 2, 3, 3, 5, 1])\n",
        "s.mode()"
      ],
      "execution_count": 18,
      "outputs": [
        {
          "output_type": "execute_result",
          "data": {
            "text/plain": [
              "0    1\n",
              "1    3\n",
              "dtype: int64"
            ]
          },
          "metadata": {
            "tags": []
          },
          "execution_count": 18
        }
      ]
    },
    {
      "cell_type": "code",
      "metadata": {
        "id": "0Ih1C0N1tWeL",
        "colab_type": "code",
        "colab": {
          "base_uri": "https://localhost:8080/",
          "height": 68
        },
        "outputId": "56241fed-8ccd-4498-d4e8-a0878502277d"
      },
      "source": [
        "# calc the variance of the values in each column\n",
        "omh.var()"
      ],
      "execution_count": 20,
      "outputs": [
        {
          "output_type": "execute_result",
          "data": {
            "text/plain": [
              "MSFT    0.870632\n",
              "AAPL    5.706231\n",
              "dtype: float64"
            ]
          },
          "metadata": {
            "tags": []
          },
          "execution_count": 20
        }
      ]
    },
    {
      "cell_type": "code",
      "metadata": {
        "id": "D-0N46LWtfTP",
        "colab_type": "code",
        "colab": {
          "base_uri": "https://localhost:8080/",
          "height": 68
        },
        "outputId": "b2b307bd-2c41-4ffd-bf81-fb47b590e6f3"
      },
      "source": [
        "# Standard Deviation標準差\n",
        "\n",
        "# standard deviation\n",
        "omh.std()"
      ],
      "execution_count": 21,
      "outputs": [
        {
          "output_type": "execute_result",
          "data": {
            "text/plain": [
              "MSFT    0.933077\n",
              "AAPL    2.388772\n",
              "dtype: float64"
            ]
          },
          "metadata": {
            "tags": []
          },
          "execution_count": 21
        }
      ]
    },
    {
      "cell_type": "code",
      "metadata": {
        "id": "lolFgHG0v9p7",
        "colab_type": "code",
        "colab": {
          "base_uri": "https://localhost:8080/",
          "height": 34
        },
        "outputId": "f53ef69b-5401-44e6-ad4d-4b297ae8ac30"
      },
      "source": [
        "# covariance of MSFT vs AAPL\n",
        "omh.MSFT.cov(omh.AAPL)"
      ],
      "execution_count": 22,
      "outputs": [
        {
          "output_type": "execute_result",
          "data": {
            "text/plain": [
              "1.9261240259740264"
            ]
          },
          "metadata": {
            "tags": []
          },
          "execution_count": 22
        }
      ]
    },
    {
      "cell_type": "code",
      "metadata": {
        "id": "_fgP0aSYwYnn",
        "colab_type": "code",
        "colab": {}
      },
      "source": [
        "A = pd.Series([60,59,61,62,58,60])\n",
        "B = pd.Series([60,54,66,71,49,60])"
      ],
      "execution_count": 0,
      "outputs": []
    },
    {
      "cell_type": "code",
      "metadata": {
        "id": "JUuPYa74w_YZ",
        "colab_type": "code",
        "colab": {
          "base_uri": "https://localhost:8080/",
          "height": 170
        },
        "outputId": "f5121054-3c07-4e22-81fd-652f73e65fe8"
      },
      "source": [
        "A.describe()"
      ],
      "execution_count": 54,
      "outputs": [
        {
          "output_type": "execute_result",
          "data": {
            "text/plain": [
              "count     6.000000\n",
              "mean     60.000000\n",
              "std       1.414214\n",
              "min      58.000000\n",
              "25%      59.250000\n",
              "50%      60.000000\n",
              "75%      60.750000\n",
              "max      62.000000\n",
              "dtype: float64"
            ]
          },
          "metadata": {
            "tags": []
          },
          "execution_count": 54
        }
      ]
    },
    {
      "cell_type": "code",
      "metadata": {
        "id": "PfrNOX0WxAeV",
        "colab_type": "code",
        "colab": {
          "base_uri": "https://localhost:8080/",
          "height": 170
        },
        "outputId": "38833304-4395-4993-b6d8-b14891abc95f"
      },
      "source": [
        "B.describe()"
      ],
      "execution_count": 55,
      "outputs": [
        {
          "output_type": "execute_result",
          "data": {
            "text/plain": [
              "count     6.000000\n",
              "mean     60.000000\n",
              "std       7.924645\n",
              "min      49.000000\n",
              "25%      55.500000\n",
              "50%      60.000000\n",
              "75%      64.500000\n",
              "max      71.000000\n",
              "dtype: float64"
            ]
          },
          "metadata": {
            "tags": []
          },
          "execution_count": 55
        }
      ]
    },
    {
      "cell_type": "code",
      "metadata": {
        "id": "kp9ddUh8ztq3",
        "colab_type": "code",
        "colab": {
          "base_uri": "https://localhost:8080/",
          "height": 34
        },
        "outputId": "4831d677-2270-42ab-d3cb-e4302d264513"
      },
      "source": [
        "A.mean()"
      ],
      "execution_count": 56,
      "outputs": [
        {
          "output_type": "execute_result",
          "data": {
            "text/plain": [
              "60.0"
            ]
          },
          "metadata": {
            "tags": []
          },
          "execution_count": 56
        }
      ]
    },
    {
      "cell_type": "code",
      "metadata": {
        "id": "UXgjf_2OzxeA",
        "colab_type": "code",
        "colab": {
          "base_uri": "https://localhost:8080/",
          "height": 34
        },
        "outputId": "65546f46-d411-49ee-abbd-d194f4bc7459"
      },
      "source": [
        "B.mean()"
      ],
      "execution_count": 57,
      "outputs": [
        {
          "output_type": "execute_result",
          "data": {
            "text/plain": [
              "60.0"
            ]
          },
          "metadata": {
            "tags": []
          },
          "execution_count": 57
        }
      ]
    },
    {
      "cell_type": "code",
      "metadata": {
        "id": "gkGYCkqBz0wh",
        "colab_type": "code",
        "colab": {
          "base_uri": "https://localhost:8080/",
          "height": 34
        },
        "outputId": "b5785a4b-f481-46d4-b5bf-898d014782b5"
      },
      "source": [
        "A.median()"
      ],
      "execution_count": 58,
      "outputs": [
        {
          "output_type": "execute_result",
          "data": {
            "text/plain": [
              "60.0"
            ]
          },
          "metadata": {
            "tags": []
          },
          "execution_count": 58
        }
      ]
    },
    {
      "cell_type": "code",
      "metadata": {
        "id": "Za8CWCHgz5UP",
        "colab_type": "code",
        "colab": {
          "base_uri": "https://localhost:8080/",
          "height": 34
        },
        "outputId": "13db9e39-224f-4321-8e2e-37ad4bf4afe9"
      },
      "source": [
        "B.median()"
      ],
      "execution_count": 59,
      "outputs": [
        {
          "output_type": "execute_result",
          "data": {
            "text/plain": [
              "60.0"
            ]
          },
          "metadata": {
            "tags": []
          },
          "execution_count": 59
        }
      ]
    },
    {
      "cell_type": "code",
      "metadata": {
        "id": "q6WAYw3wz-3g",
        "colab_type": "code",
        "colab": {
          "base_uri": "https://localhost:8080/",
          "height": 51
        },
        "outputId": "2c4b8e50-ed7e-423d-f4cf-ee5abda718fe"
      },
      "source": [
        "A.mode()"
      ],
      "execution_count": 60,
      "outputs": [
        {
          "output_type": "execute_result",
          "data": {
            "text/plain": [
              "0    60\n",
              "dtype: int64"
            ]
          },
          "metadata": {
            "tags": []
          },
          "execution_count": 60
        }
      ]
    },
    {
      "cell_type": "code",
      "metadata": {
        "id": "hfJ8Io_t0BRG",
        "colab_type": "code",
        "colab": {
          "base_uri": "https://localhost:8080/",
          "height": 51
        },
        "outputId": "3d17661a-e233-4d1e-b7eb-de601853dc7e"
      },
      "source": [
        "B.mode()"
      ],
      "execution_count": 61,
      "outputs": [
        {
          "output_type": "execute_result",
          "data": {
            "text/plain": [
              "0    60\n",
              "dtype: int64"
            ]
          },
          "metadata": {
            "tags": []
          },
          "execution_count": 61
        }
      ]
    },
    {
      "cell_type": "code",
      "metadata": {
        "id": "cn2xawTg0K_v",
        "colab_type": "code",
        "colab": {
          "base_uri": "https://localhost:8080/",
          "height": 34
        },
        "outputId": "e03a6464-dc94-4c3b-877e-0770e3f25e90"
      },
      "source": [
        "A.var()"
      ],
      "execution_count": 63,
      "outputs": [
        {
          "output_type": "execute_result",
          "data": {
            "text/plain": [
              "2.0"
            ]
          },
          "metadata": {
            "tags": []
          },
          "execution_count": 63
        }
      ]
    },
    {
      "cell_type": "code",
      "metadata": {
        "id": "ys5YUAFK0N8u",
        "colab_type": "code",
        "colab": {
          "base_uri": "https://localhost:8080/",
          "height": 34
        },
        "outputId": "adf5ade1-c531-4d8e-8815-4779b45de264"
      },
      "source": [
        "B.var()"
      ],
      "execution_count": 64,
      "outputs": [
        {
          "output_type": "execute_result",
          "data": {
            "text/plain": [
              "62.8"
            ]
          },
          "metadata": {
            "tags": []
          },
          "execution_count": 64
        }
      ]
    },
    {
      "cell_type": "code",
      "metadata": {
        "id": "RYOOP-o_0QDD",
        "colab_type": "code",
        "colab": {
          "base_uri": "https://localhost:8080/",
          "height": 34
        },
        "outputId": "576984ac-6c03-4c2c-b8c2-0e74ba1444a2"
      },
      "source": [
        "A.std()"
      ],
      "execution_count": 65,
      "outputs": [
        {
          "output_type": "execute_result",
          "data": {
            "text/plain": [
              "1.4142135623730951"
            ]
          },
          "metadata": {
            "tags": []
          },
          "execution_count": 65
        }
      ]
    },
    {
      "cell_type": "code",
      "metadata": {
        "id": "m3HSmXL10SGo",
        "colab_type": "code",
        "colab": {
          "base_uri": "https://localhost:8080/",
          "height": 34
        },
        "outputId": "68b30d1a-7217-4b80-b01a-440c5d9d3fa1"
      },
      "source": [
        "B.std()"
      ],
      "execution_count": 66,
      "outputs": [
        {
          "output_type": "execute_result",
          "data": {
            "text/plain": [
              "7.92464510246358"
            ]
          },
          "metadata": {
            "tags": []
          },
          "execution_count": 66
        }
      ]
    },
    {
      "cell_type": "code",
      "metadata": {
        "id": "dmHIx3NQ0aV6",
        "colab_type": "code",
        "colab": {
          "base_uri": "https://localhost:8080/",
          "height": 34
        },
        "outputId": "885cb968-acec-4e63-beef-4815d516552e"
      },
      "source": [
        "A.cov(B)"
      ],
      "execution_count": 67,
      "outputs": [
        {
          "output_type": "execute_result",
          "data": {
            "text/plain": [
              "11.200000000000001"
            ]
          },
          "metadata": {
            "tags": []
          },
          "execution_count": 67
        }
      ]
    }
  ]
}