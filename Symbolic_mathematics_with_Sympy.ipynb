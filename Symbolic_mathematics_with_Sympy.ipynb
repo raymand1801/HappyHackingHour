{
  "nbformat": 4,
  "nbformat_minor": 0,
  "metadata": {
    "colab": {
      "name": " Symbolic mathematics with Sympy.ipynb",
      "provenance": []
    },
    "kernelspec": {
      "name": "python3",
      "display_name": "Python 3"
    }
  },
  "cells": [
    {
      "cell_type": "markdown",
      "metadata": {
        "id": "YwFUSoLAzx8l",
        "colab_type": "text"
      },
      "source": [
        "$$Manipulating symbolic expressions$$\n"
      ]
    },
    {
      "cell_type": "code",
      "metadata": {
        "id": "ltss2EFgzmCS",
        "colab_type": "code",
        "colab": {
          "base_uri": "https://localhost:8080/",
          "height": 34
        },
        "outputId": "bab23410-12a7-40ca-ee60-565d5506d061"
      },
      "source": [
        "import sympy as sym\n",
        "print(\"sympy version: %s\" % sym.__version__)"
      ],
      "execution_count": 42,
      "outputs": [
        {
          "output_type": "stream",
          "text": [
            "sympy version: 1.1.1\n"
          ],
          "name": "stdout"
        }
      ]
    },
    {
      "cell_type": "markdown",
      "metadata": {
        "id": "JBq_z3K0z9Vr",
        "colab_type": "text"
      },
      "source": [
        "If we wanted to get Python to check that $x - x = 0$ we would get an error if we did not tell Python what $x$ was.\n",
        "\n",
        "This is where Sympy comes in, we can tell Python to create $x$ as a symbolic variable:"
      ]
    },
    {
      "cell_type": "code",
      "metadata": {
        "id": "F2c1Nu35z-lk",
        "colab_type": "code",
        "colab": {}
      },
      "source": [
        "x = sym.symbols('x')"
      ],
      "execution_count": 0,
      "outputs": []
    },
    {
      "cell_type": "markdown",
      "metadata": {
        "id": "eotWzP350Ceh",
        "colab_type": "text"
      },
      "source": [
        "\n",
        "Now we can calculate $x - x$:"
      ]
    },
    {
      "cell_type": "code",
      "metadata": {
        "id": "9_dtKpla0Dbd",
        "colab_type": "code",
        "colab": {
          "base_uri": "https://localhost:8080/",
          "height": 34
        },
        "outputId": "2a44e2c9-348f-476f-839c-84ebc01ebef5"
      },
      "source": [
        "x - x"
      ],
      "execution_count": 3,
      "outputs": [
        {
          "output_type": "execute_result",
          "data": {
            "text/plain": [
              "0"
            ]
          },
          "metadata": {
            "tags": []
          },
          "execution_count": 3
        }
      ]
    },
    {
      "cell_type": "markdown",
      "metadata": {
        "id": "3w3Th_Nx0FlN",
        "colab_type": "text"
      },
      "source": [
        "We can create and manipulate expressions in Sympy. Let us for example verify:\n",
        "\n",
        "$$(a + b) ^ 2 = a ^ 2 + 2ab + b ^2$$\n",
        "First, we create the symbolic variables $a, b$:"
      ]
    },
    {
      "cell_type": "code",
      "metadata": {
        "id": "VghrkPBL0OTD",
        "colab_type": "code",
        "colab": {
          "base_uri": "https://localhost:8080/",
          "height": 34
        },
        "outputId": "54e9d791-ff39-4030-a2a3-28ab31442fdf"
      },
      "source": [
        "a, b = sym.symbols('a, b')\n",
        "expr = (a + b) ** 2 \n",
        "expr"
      ],
      "execution_count": 5,
      "outputs": [
        {
          "output_type": "execute_result",
          "data": {
            "text/plain": [
              "(a + b)**2"
            ]
          },
          "metadata": {
            "tags": []
          },
          "execution_count": 5
        }
      ]
    },
    {
      "cell_type": "markdown",
      "metadata": {
        "id": "EoPO8Pl00j6M",
        "colab_type": "text"
      },
      "source": [
        "\n",
        "Note we can get Sympy to use LaTeX so that the output looks nice in a notebook:\n",
        "\n"
      ]
    },
    {
      "cell_type": "code",
      "metadata": {
        "id": "q0NmRGF11PWx",
        "colab_type": "code",
        "colab": {
          "base_uri": "https://localhost:8080/",
          "height": 34
        },
        "outputId": "82afd323-0e0a-4e8a-98d4-6f60d5a3baba"
      },
      "source": [
        "sym.init_printing()\n",
        "expr"
      ],
      "execution_count": 37,
      "outputs": [
        {
          "output_type": "execute_result",
          "data": {
            "image/png": "[encoded data removed]",
            "text/latex": "$$\\left(a + b\\right)^{2}$$",
            "text/plain": [
              "       2\n",
              "(a + b) "
            ]
          },
          "metadata": {
            "tags": []
          },
          "execution_count": 37
        }
      ]
    },
    {
      "cell_type": "code",
      "metadata": {
        "id": "wKu_Z8vY29nM",
        "colab_type": "code",
        "colab": {}
      },
      "source": [
        "expr"
      ],
      "execution_count": 0,
      "outputs": []
    },
    {
      "cell_type": "markdown",
      "metadata": {
        "id": "ofZj_pj73Bpg",
        "colab_type": "text"
      },
      "source": [
        "Let us expand our expression:"
      ]
    },
    {
      "cell_type": "code",
      "metadata": {
        "id": "O2Tg3cn410DD",
        "colab_type": "code",
        "colab": {
          "base_uri": "https://localhost:8080/",
          "height": 34
        },
        "outputId": "9a7fb0a9-af52-4c5f-b1dc-73330b7aa9d5"
      },
      "source": [
        "expr.expand()"
      ],
      "execution_count": 38,
      "outputs": [
        {
          "output_type": "execute_result",
          "data": {
            "image/png": "[encoded data removed]",
            "text/latex": "$$a^{2} + 2 a b + b^{2}$$",
            "text/plain": [
              " 2            2\n",
              "a  + 2⋅a⋅b + b "
            ]
          },
          "metadata": {
            "tags": []
          },
          "execution_count": 38
        }
      ]
    },
    {
      "cell_type": "code",
      "metadata": {
        "id": "-JstrhcW0guS",
        "colab_type": "code",
        "colab": {
          "base_uri": "https://localhost:8080/",
          "height": 34
        },
        "outputId": "96c6b432-6336-4e8e-cb68-1db80bf50bf0"
      },
      "source": [
        "expr.expand()"
      ],
      "execution_count": 11,
      "outputs": [
        {
          "output_type": "execute_result",
          "data": {
            "image/png": "[encoded data removed]",
            "text/latex": "$$a^{2} + 2 a b + b^{2}$$",
            "text/plain": [
              " 2            2\n",
              "a  + 2⋅a⋅b + b "
            ]
          },
          "metadata": {
            "tags": []
          },
          "execution_count": 11
        }
      ]
    },
    {
      "cell_type": "markdown",
      "metadata": {
        "id": "JqXHdQyt3HRA",
        "colab_type": "text"
      },
      "source": [
        "Note that we can also get Sympy to produce the LaTeX code for future use:\n",
        "\n"
      ]
    },
    {
      "cell_type": "code",
      "metadata": {
        "id": "WCm8hyyM3IPA",
        "colab_type": "code",
        "colab": {
          "base_uri": "https://localhost:8080/",
          "height": 34
        },
        "outputId": "bcd8e249-7f7c-4b2a-ccf8-86f65f743f57"
      },
      "source": [
        "sym.latex(expr.expand())\n"
      ],
      "execution_count": 39,
      "outputs": [
        {
          "output_type": "execute_result",
          "data": {
            "text/plain": [
              "'a^{2} + 2 a b + b^{2}'"
            ]
          },
          "metadata": {
            "tags": []
          },
          "execution_count": 39
        }
      ]
    },
    {
      "cell_type": "markdown",
      "metadata": {
        "id": "zY_5edf83RLi",
        "colab_type": "text"
      },
      "source": [
        "\n",
        "$EXERCISE$ Use Sympy to verify the following expressions:\n",
        "\n",
        "$(a - b) ^ 2 = a ^ 2 - 2 a b + b^2$\n",
        "$a ^ 2 - b ^ 2 = (a - b) (a + b)$ (instead of using expand, try factor)"
      ]
    },
    {
      "cell_type": "markdown",
      "metadata": {
        "id": "wOYDAiZ13ZBP",
        "colab_type": "text"
      },
      "source": [
        "$$Solving symbolic equations$$\n",
        "\\\n",
        "We can use Sympy to solve symbolic expression. For example let's find the solution in $x$ of the quadratic equation:\n",
        "\n",
        "$$a x ^ 2 + b x + c = 0$$"
      ]
    },
    {
      "cell_type": "code",
      "metadata": {
        "id": "qgmM6t1E3UZJ",
        "colab_type": "code",
        "colab": {
          "base_uri": "https://localhost:8080/",
          "height": 34
        },
        "outputId": "6c046d2a-0b3b-4d6e-d129-23e5aac221c1"
      },
      "source": [
        "# We only really need to define `c` but doing them all again.\n",
        "a, b, c, x = sym.symbols('a, b, c, x')\n",
        "sym.solveset(a * x ** 2 + b * x + c, x)"
      ],
      "execution_count": 43,
      "outputs": [
        {
          "output_type": "execute_result",
          "data": {
            "image/png": "[encoded data removed]",
            "text/latex": "$$\\left\\{- \\frac{b}{2 a} - \\frac{1}{2 a} \\sqrt{- 4 a c + b^{2}}, - \\frac{b}{2 a} + \\frac{1}{2 a} \\sqrt{- 4 a c + b^{2}}\\right\\}$$",
            "text/plain": [
              "⎧           _____________             _____________⎫\n",
              "⎪          ╱           2             ╱           2 ⎪\n",
              "⎨   b    ╲╱  -4⋅a⋅c + b       b    ╲╱  -4⋅a⋅c + b  ⎬\n",
              "⎪- ─── - ────────────────, - ─── + ────────────────⎪\n",
              "⎩  2⋅a         2⋅a           2⋅a         2⋅a       ⎭"
            ]
          },
          "metadata": {
            "tags": []
          },
          "execution_count": 43
        }
      ]
    },
    {
      "cell_type": "markdown",
      "metadata": {
        "id": "-4xgpdkt32s7",
        "colab_type": "text"
      },
      "source": [
        "\n",
        "$EXERCISE$ Use Sympy to find the solutions to the generic cubic equation:\n",
        "\n",
        "$$a x ^ 3 + b x ^ 2 + c  x + d = 0$$"
      ]
    },
    {
      "cell_type": "markdown",
      "metadata": {
        "id": "Ligj_RM835aT",
        "colab_type": "text"
      },
      "source": [
        "It is possible to pass more arguments to solveset for example to constrain the solution space. Let us see what the solution of the following is in $\\mathbb{R}$:\n",
        "\n",
        "$$x^2=-1$$"
      ]
    },
    {
      "cell_type": "code",
      "metadata": {
        "id": "tK0CUnqh399J",
        "colab_type": "code",
        "colab": {
          "base_uri": "https://localhost:8080/",
          "height": 34
        },
        "outputId": "5854d64d-f77d-4dd9-d8d3-e6803f2acc90"
      },
      "source": [
        "sym.solveset(x ** 2 + 1, x, domain=sym.S.Reals)\n"
      ],
      "execution_count": 44,
      "outputs": [
        {
          "output_type": "execute_result",
          "data": {
            "image/png": "[encoded data removed]",
            "text/latex": "$$\\emptyset$$",
            "text/plain": [
              "∅"
            ]
          },
          "metadata": {
            "tags": []
          },
          "execution_count": 44
        }
      ]
    },
    {
      "cell_type": "markdown",
      "metadata": {
        "id": "M0I90lUa4BbZ",
        "colab_type": "text"
      },
      "source": [
        "$EXERCISE$ Use Sympy to find the solutions to the following equations:\n",
        "\n",
        "$x ^ 2 == 2$ in $\\mathbb{N}$;\n",
        "$x ^ 3 + 2 x = 0$ in $\\mathbb{R}$.\n"
      ]
    }
  ]
}